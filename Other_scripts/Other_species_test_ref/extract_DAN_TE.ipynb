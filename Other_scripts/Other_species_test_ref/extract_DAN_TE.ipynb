{
 "cells": [
  {
   "cell_type": "code",
   "execution_count": null,
   "metadata": {},
   "outputs": [],
   "source": [
    "def extract_dna_families(input_file, output_file):\n",
    "    with open(input_file, 'r') as f_in, open(output_file, 'w') as f_out:\n",
    "        current_header = ''\n",
    "        current_sequence = ''\n",
    "        \n",
    "        for line in f_in:\n",
    "            line = line.strip()\n",
    "            \n",
    "            if line.startswith('>'):\n",
    "\n",
    "                if '#DNA' in line:\n",
    "       \n",
    "                    if current_header and current_sequence:\n",
    "                        f_out.write(current_header + '\\n')\n",
    "                        f_out.write(current_sequence + '\\n')\n",
    "                    \n",
    " \n",
    "                    current_header = line\n",
    "                    current_sequence = ''\n",
    "                else:\n",
    "\n",
    "                    current_header = ''\n",
    "                    current_sequence = ''\n",
    "            else:\n",
    "\n",
    "                if current_header:\n",
    "                    current_sequence += line\n",
    "        \n",
    "        if current_header and current_sequence:\n",
    "            f_out.write(current_header + '\\n')\n",
    "            f_out.write(current_sequence + '\\n')\n"
   ]
  }
 ],
 "metadata": {
  "kernelspec": {
   "display_name": "srtp",
   "language": "python",
   "name": "python3"
  },
  "language_info": {
   "codemirror_mode": {
    "name": "ipython",
    "version": 3
   },
   "file_extension": ".py",
   "mimetype": "text/x-python",
   "name": "python",
   "nbconvert_exporter": "python",
   "pygments_lexer": "ipython3",
   "version": "3.9.18"
  }
 },
 "nbformat": 4,
 "nbformat_minor": 2
}
